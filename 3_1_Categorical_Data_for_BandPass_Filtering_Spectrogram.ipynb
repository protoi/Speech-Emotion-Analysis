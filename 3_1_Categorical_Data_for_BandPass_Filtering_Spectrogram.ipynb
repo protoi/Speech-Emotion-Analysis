{
  "nbformat": 4,
  "nbformat_minor": 0,
  "metadata": {
    "colab": {
      "provenance": [],
      "mount_file_id": "1yvSR065HbDJmWMqbNSOY4ZgBm9G2887W",
      "authorship_tag": "ABX9TyP5HbgfDL/Nlo2w2L6BGhJ+",
      "include_colab_link": true
    },
    "kernelspec": {
      "name": "python3",
      "display_name": "Python 3"
    },
    "language_info": {
      "name": "python"
    }
  },
  "cells": [
    {
      "cell_type": "markdown",
      "metadata": {
        "id": "view-in-github",
        "colab_type": "text"
      },
      "source": [
        "<a href=\"https://colab.research.google.com/github/protoi/Speech-Emotion-Analysis/blob/main/3_1_Categorical_Data_for_BandPass_Filtering_Spectrogram.ipynb\" target=\"_parent\"><img src=\"https://colab.research.google.com/assets/colab-badge.svg\" alt=\"Open In Colab\"/></a>"
      ]
    },
    {
      "cell_type": "markdown",
      "source": [
        "# DESCRIPTION "
      ],
      "metadata": {
        "id": "-rYv8psE6L1u"
      }
    },
    {
      "cell_type": "markdown",
      "source": [
        "Uses the .pickle file generated from the previous code, passes the audio time series through a band pass filter and produces spectrograms."
      ],
      "metadata": {
        "id": "Bdkqp61c6xpR"
      }
    },
    {
      "cell_type": "markdown",
      "source": [
        "# LIBRARIES AND IMPORTS"
      ],
      "metadata": {
        "id": "ExaHSrbVHTGB"
      }
    },
    {
      "cell_type": "code",
      "execution_count": null,
      "metadata": {
        "id": "GURu7rh397S5"
      },
      "outputs": [],
      "source": [
        "import pathlib\n",
        "import numpy as np\n",
        "import matplotlib.pyplot as plt\n",
        "import pandas as pd\n",
        "import math as math\n",
        "import librosa as lib\n",
        "import librosa.display as lid\n",
        "import re \n",
        "import os as os\n",
        "import glob as glob\n",
        "from pathlib import Path\n",
        "from os import chdir\n",
        "from scipy.signal import butter, filtfilt\n",
        "import gc\n",
        "from tqdm import tqdm\n",
        "from google.colab import drive\n",
        "import shutil\n",
        "from google.colab import output\n",
        "import IPython\n",
        "from IPython.display import Audio\n",
        "import random as rand\n",
        "from pylab import Rectangle\n",
        "import gc \n",
        "from scipy import stats\n",
        "import soundfile as sf\n",
        "import pyarrow.feather as feather\n",
        "from scipy.signal import butter\n",
        "from scipy.signal import butter, filtfilt"
      ]
    },
    {
      "cell_type": "code",
      "source": [
        "from google.colab import drive\n",
        "drive.mount('/content/drive')"
      ],
      "metadata": {
        "colab": {
          "base_uri": "https://localhost:8080/"
        },
        "id": "JUhgtO2kQiOm",
        "outputId": "17e52442-2f85-4399-96d1-9e0e95b44135"
      },
      "execution_count": null,
      "outputs": [
        {
          "output_type": "stream",
          "name": "stdout",
          "text": [
            "Drive already mounted at /content/drive; to attempt to forcibly remount, call drive.mount(\"/content/drive\", force_remount=True).\n"
          ]
        }
      ]
    },
    {
      "cell_type": "markdown",
      "source": [
        "# LOADING AND DESERIALIZING THE PICKLE FILE"
      ],
      "metadata": {
        "id": "JnFne4BYBGjV"
      }
    },
    {
      "cell_type": "code",
      "execution_count": null,
      "metadata": {
        "colab": {
          "base_uri": "https://localhost:8080/",
          "height": 424
        },
        "id": "RHwOX_dnASlD",
        "outputId": "40767c6a-a5f8-4926-b2dc-712d82df9086"
      },
      "outputs": [
        {
          "output_type": "execute_result",
          "data": {
            "text/plain": [
              "               labels  source                                          path  \\\n",
              "0          male_anger   SAVEE           /content/SAVEE/AudioData/DC/a01.wav   \n",
              "1          male_anger   SAVEE           /content/SAVEE/AudioData/DC/a02.wav   \n",
              "2          male_anger   SAVEE           /content/SAVEE/AudioData/DC/a03.wav   \n",
              "3          male_anger   SAVEE           /content/SAVEE/AudioData/DC/a04.wav   \n",
              "4          male_anger   SAVEE           /content/SAVEE/AudioData/DC/a05.wav   \n",
              "...               ...     ...                                           ...   \n",
              "12157  female_disgust  CREMAD  /content/CREMAD/AudioWAV/1091_WSI_DIS_XX.wav   \n",
              "12158     female_fear  CREMAD  /content/CREMAD/AudioWAV/1091_WSI_FEA_XX.wav   \n",
              "12159    female_happy  CREMAD  /content/CREMAD/AudioWAV/1091_WSI_HAP_XX.wav   \n",
              "12160  female_neutral  CREMAD  /content/CREMAD/AudioWAV/1091_WSI_NEU_XX.wav   \n",
              "12161  female_sadness  CREMAD  /content/CREMAD/AudioWAV/1091_WSI_SAD_XX.wav   \n",
              "\n",
              "                  name                                    silence_removed  \n",
              "0               DC_a01  [0.112091064, 0.11282349, 0.088012695, 0.05386...  \n",
              "1               DC_a02  [0.10910034, 0.11364746, 0.10357666, 0.0806579...  \n",
              "2               DC_a03  [0.12271118, 0.123931885, 0.1251831, 0.1264648...  \n",
              "3               DC_a04  [0.12472534, 0.13046265, 0.13531494, 0.1396484...  \n",
              "4               DC_a05  [0.121795654, 0.1227417, 0.11932373, 0.1135559...  \n",
              "...                ...                                                ...  \n",
              "12157  1091_WSI_DIS_XX  [0.0009117986, 0.0011943923, 0.0013480312, 0.0...  \n",
              "12158  1091_WSI_FEA_XX  [-0.0065059913, -0.007563202, -0.0075736893, -...  \n",
              "12159  1091_WSI_HAP_XX  [0.011431874, 0.011645955, 0.011703809, 0.0115...  \n",
              "12160  1091_WSI_NEU_XX  [0.008490561, 0.00867801, 0.008760293, 0.00883...  \n",
              "12161  1091_WSI_SAD_XX  [0.0006946694, 0.0007136891, 0.0006897674, 0.0...  \n",
              "\n",
              "[12162 rows x 5 columns]"
            ],
            "text/html": [
              "\n",
              "  <div id=\"df-5a978b7c-64a7-41c8-9f8a-f6c87ba664df\">\n",
              "    <div class=\"colab-df-container\">\n",
              "      <div>\n",
              "<style scoped>\n",
              "    .dataframe tbody tr th:only-of-type {\n",
              "        vertical-align: middle;\n",
              "    }\n",
              "\n",
              "    .dataframe tbody tr th {\n",
              "        vertical-align: top;\n",
              "    }\n",
              "\n",
              "    .dataframe thead th {\n",
              "        text-align: right;\n",
              "    }\n",
              "</style>\n",
              "<table border=\"1\" class=\"dataframe\">\n",
              "  <thead>\n",
              "    <tr style=\"text-align: right;\">\n",
              "      <th></th>\n",
              "      <th>labels</th>\n",
              "      <th>source</th>\n",
              "      <th>path</th>\n",
              "      <th>name</th>\n",
              "      <th>silence_removed</th>\n",
              "    </tr>\n",
              "  </thead>\n",
              "  <tbody>\n",
              "    <tr>\n",
              "      <th>0</th>\n",
              "      <td>male_anger</td>\n",
              "      <td>SAVEE</td>\n",
              "      <td>/content/SAVEE/AudioData/DC/a01.wav</td>\n",
              "      <td>DC_a01</td>\n",
              "      <td>[0.112091064, 0.11282349, 0.088012695, 0.05386...</td>\n",
              "    </tr>\n",
              "    <tr>\n",
              "      <th>1</th>\n",
              "      <td>male_anger</td>\n",
              "      <td>SAVEE</td>\n",
              "      <td>/content/SAVEE/AudioData/DC/a02.wav</td>\n",
              "      <td>DC_a02</td>\n",
              "      <td>[0.10910034, 0.11364746, 0.10357666, 0.0806579...</td>\n",
              "    </tr>\n",
              "    <tr>\n",
              "      <th>2</th>\n",
              "      <td>male_anger</td>\n",
              "      <td>SAVEE</td>\n",
              "      <td>/content/SAVEE/AudioData/DC/a03.wav</td>\n",
              "      <td>DC_a03</td>\n",
              "      <td>[0.12271118, 0.123931885, 0.1251831, 0.1264648...</td>\n",
              "    </tr>\n",
              "    <tr>\n",
              "      <th>3</th>\n",
              "      <td>male_anger</td>\n",
              "      <td>SAVEE</td>\n",
              "      <td>/content/SAVEE/AudioData/DC/a04.wav</td>\n",
              "      <td>DC_a04</td>\n",
              "      <td>[0.12472534, 0.13046265, 0.13531494, 0.1396484...</td>\n",
              "    </tr>\n",
              "    <tr>\n",
              "      <th>4</th>\n",
              "      <td>male_anger</td>\n",
              "      <td>SAVEE</td>\n",
              "      <td>/content/SAVEE/AudioData/DC/a05.wav</td>\n",
              "      <td>DC_a05</td>\n",
              "      <td>[0.121795654, 0.1227417, 0.11932373, 0.1135559...</td>\n",
              "    </tr>\n",
              "    <tr>\n",
              "      <th>...</th>\n",
              "      <td>...</td>\n",
              "      <td>...</td>\n",
              "      <td>...</td>\n",
              "      <td>...</td>\n",
              "      <td>...</td>\n",
              "    </tr>\n",
              "    <tr>\n",
              "      <th>12157</th>\n",
              "      <td>female_disgust</td>\n",
              "      <td>CREMAD</td>\n",
              "      <td>/content/CREMAD/AudioWAV/1091_WSI_DIS_XX.wav</td>\n",
              "      <td>1091_WSI_DIS_XX</td>\n",
              "      <td>[0.0009117986, 0.0011943923, 0.0013480312, 0.0...</td>\n",
              "    </tr>\n",
              "    <tr>\n",
              "      <th>12158</th>\n",
              "      <td>female_fear</td>\n",
              "      <td>CREMAD</td>\n",
              "      <td>/content/CREMAD/AudioWAV/1091_WSI_FEA_XX.wav</td>\n",
              "      <td>1091_WSI_FEA_XX</td>\n",
              "      <td>[-0.0065059913, -0.007563202, -0.0075736893, -...</td>\n",
              "    </tr>\n",
              "    <tr>\n",
              "      <th>12159</th>\n",
              "      <td>female_happy</td>\n",
              "      <td>CREMAD</td>\n",
              "      <td>/content/CREMAD/AudioWAV/1091_WSI_HAP_XX.wav</td>\n",
              "      <td>1091_WSI_HAP_XX</td>\n",
              "      <td>[0.011431874, 0.011645955, 0.011703809, 0.0115...</td>\n",
              "    </tr>\n",
              "    <tr>\n",
              "      <th>12160</th>\n",
              "      <td>female_neutral</td>\n",
              "      <td>CREMAD</td>\n",
              "      <td>/content/CREMAD/AudioWAV/1091_WSI_NEU_XX.wav</td>\n",
              "      <td>1091_WSI_NEU_XX</td>\n",
              "      <td>[0.008490561, 0.00867801, 0.008760293, 0.00883...</td>\n",
              "    </tr>\n",
              "    <tr>\n",
              "      <th>12161</th>\n",
              "      <td>female_sadness</td>\n",
              "      <td>CREMAD</td>\n",
              "      <td>/content/CREMAD/AudioWAV/1091_WSI_SAD_XX.wav</td>\n",
              "      <td>1091_WSI_SAD_XX</td>\n",
              "      <td>[0.0006946694, 0.0007136891, 0.0006897674, 0.0...</td>\n",
              "    </tr>\n",
              "  </tbody>\n",
              "</table>\n",
              "<p>12162 rows × 5 columns</p>\n",
              "</div>\n",
              "      <button class=\"colab-df-convert\" onclick=\"convertToInteractive('df-5a978b7c-64a7-41c8-9f8a-f6c87ba664df')\"\n",
              "              title=\"Convert this dataframe to an interactive table.\"\n",
              "              style=\"display:none;\">\n",
              "        \n",
              "  <svg xmlns=\"http://www.w3.org/2000/svg\" height=\"24px\"viewBox=\"0 0 24 24\"\n",
              "       width=\"24px\">\n",
              "    <path d=\"M0 0h24v24H0V0z\" fill=\"none\"/>\n",
              "    <path d=\"M18.56 5.44l.94 2.06.94-2.06 2.06-.94-2.06-.94-.94-2.06-.94 2.06-2.06.94zm-11 1L8.5 8.5l.94-2.06 2.06-.94-2.06-.94L8.5 2.5l-.94 2.06-2.06.94zm10 10l.94 2.06.94-2.06 2.06-.94-2.06-.94-.94-2.06-.94 2.06-2.06.94z\"/><path d=\"M17.41 7.96l-1.37-1.37c-.4-.4-.92-.59-1.43-.59-.52 0-1.04.2-1.43.59L10.3 9.45l-7.72 7.72c-.78.78-.78 2.05 0 2.83L4 21.41c.39.39.9.59 1.41.59.51 0 1.02-.2 1.41-.59l7.78-7.78 2.81-2.81c.8-.78.8-2.07 0-2.86zM5.41 20L4 18.59l7.72-7.72 1.47 1.35L5.41 20z\"/>\n",
              "  </svg>\n",
              "      </button>\n",
              "      \n",
              "  <style>\n",
              "    .colab-df-container {\n",
              "      display:flex;\n",
              "      flex-wrap:wrap;\n",
              "      gap: 12px;\n",
              "    }\n",
              "\n",
              "    .colab-df-convert {\n",
              "      background-color: #E8F0FE;\n",
              "      border: none;\n",
              "      border-radius: 50%;\n",
              "      cursor: pointer;\n",
              "      display: none;\n",
              "      fill: #1967D2;\n",
              "      height: 32px;\n",
              "      padding: 0 0 0 0;\n",
              "      width: 32px;\n",
              "    }\n",
              "\n",
              "    .colab-df-convert:hover {\n",
              "      background-color: #E2EBFA;\n",
              "      box-shadow: 0px 1px 2px rgba(60, 64, 67, 0.3), 0px 1px 3px 1px rgba(60, 64, 67, 0.15);\n",
              "      fill: #174EA6;\n",
              "    }\n",
              "\n",
              "    [theme=dark] .colab-df-convert {\n",
              "      background-color: #3B4455;\n",
              "      fill: #D2E3FC;\n",
              "    }\n",
              "\n",
              "    [theme=dark] .colab-df-convert:hover {\n",
              "      background-color: #434B5C;\n",
              "      box-shadow: 0px 1px 3px 1px rgba(0, 0, 0, 0.15);\n",
              "      filter: drop-shadow(0px 1px 2px rgba(0, 0, 0, 0.3));\n",
              "      fill: #FFFFFF;\n",
              "    }\n",
              "  </style>\n",
              "\n",
              "      <script>\n",
              "        const buttonEl =\n",
              "          document.querySelector('#df-5a978b7c-64a7-41c8-9f8a-f6c87ba664df button.colab-df-convert');\n",
              "        buttonEl.style.display =\n",
              "          google.colab.kernel.accessAllowed ? 'block' : 'none';\n",
              "\n",
              "        async function convertToInteractive(key) {\n",
              "          const element = document.querySelector('#df-5a978b7c-64a7-41c8-9f8a-f6c87ba664df');\n",
              "          const dataTable =\n",
              "            await google.colab.kernel.invokeFunction('convertToInteractive',\n",
              "                                                     [key], {});\n",
              "          if (!dataTable) return;\n",
              "\n",
              "          const docLinkHtml = 'Like what you see? Visit the ' +\n",
              "            '<a target=\"_blank\" href=https://colab.research.google.com/notebooks/data_table.ipynb>data table notebook</a>'\n",
              "            + ' to learn more about interactive tables.';\n",
              "          element.innerHTML = '';\n",
              "          dataTable['output_type'] = 'display_data';\n",
              "          await google.colab.output.renderOutput(dataTable, element);\n",
              "          const docLink = document.createElement('div');\n",
              "          docLink.innerHTML = docLinkHtml;\n",
              "          element.appendChild(docLink);\n",
              "        }\n",
              "      </script>\n",
              "    </div>\n",
              "  </div>\n",
              "  "
            ]
          },
          "metadata": {},
          "execution_count": 79
        }
      ],
      "source": [
        "# !cp /content/drive/MyDrive/Machine\\ Learning/Speech\\ Emotion\\ Recognition/audio_without_silence.pkl /content/audio_without_silence.pkl\n",
        "df = None\n",
        "df = pd.read_pickle(\"/content/drive/MyDrive/Machine Learning/Speech Emotion Recognition/audio_without_silence.pkl\")\n",
        "df"
      ]
    },
    {
      "cell_type": "markdown",
      "source": [
        "# SOME STATISTICS"
      ],
      "metadata": {
        "id": "uwAyznMlF09f"
      }
    },
    {
      "cell_type": "code",
      "source": [
        "length_of_audios = np.array([len(i) for i in df['silence_removed'].values])\n",
        "print(f'mean: {np.mean(length_of_audios)}')\n",
        "print(f'median: {np.median(length_of_audios)}')\n",
        "print(f'mode: {stats.mode(length_of_audios).mode[0]}')\n",
        "print(f'standard deviation: {np.std(length_of_audios)}')"
      ],
      "metadata": {
        "colab": {
          "base_uri": "https://localhost:8080/"
        },
        "id": "2n2w3SDUF3iQ",
        "outputId": "9bf15db8-1836-46e4-9edc-a41f66cad03b"
      },
      "execution_count": null,
      "outputs": [
        {
          "output_type": "stream",
          "name": "stdout",
          "text": [
            "mean: 77560.97845749055\n",
            "median: 71158.5\n",
            "mode: 50852\n",
            "standard deviation: 26487.01623615346\n"
          ]
        }
      ]
    },
    {
      "cell_type": "markdown",
      "source": [
        "# ADDING & REMOVING SAMPLES TO MAKE EVERY ARRAY THE LENGTH OF THE MEDIAN"
      ],
      "metadata": {
        "id": "dvJMm9inHfF1"
      }
    },
    {
      "cell_type": "code",
      "source": [
        "%%time\n",
        "#makes length of all audio files = median length\n",
        "def standardize_length(audio_sample, median_length):\n",
        "  if len(audio_sample) <= 1:\n",
        "    # return audio_sample #passing a 1 len array to keep the array jagged, numpy will make an array of arrays into aa 2D array if the length of all the arrays are equal\n",
        "    yield audio_sample \n",
        "\n",
        "  if len(audio_sample) >= median_length: #more audio samples than we need, just slice it\n",
        "    # return audio_sample[ : median_length]\n",
        "    yield audio_sample[ : median_length]\n",
        "  else:                                   # append it to itself till length = median_length\n",
        "    reps = int(median_length/len(audio_sample))\n",
        "    # return np.concatenate((np.tile(audio_sample, reps), audio_sample[: median_length % len(audio_sample)]))\n",
        "    yield np.concatenate((np.tile(audio_sample, reps), audio_sample[: median_length % len(audio_sample)]))\n",
        "\n",
        "#calls audio normalized, can make it chain call bandpass filter later if needed\n",
        "def audio_trimming(numpy_array: np.array, target_len) -> np.array:\n",
        "  return np.array(list(map(lambda x: standardize_length(x, target_len), numpy_array)), dtype=object)\n",
        "\n",
        "median_len = math.floor(np.median(length_of_audios))\n",
        "\n",
        "\n",
        "ragged_row = pd.Series({'labels':None, 'source':None, 'path':None, 'name':None, 'silence_removed':np.array([1])})\n",
        "\n",
        "\n",
        "\n",
        "#comment the three lines below when testing, this is for production\n",
        "df = pd.concat([df, ragged_row.to_frame().T], ignore_index=True)\n",
        "df['audio_normalized'] = audio_trimming(df['silence_removed'].values, median_len)\n",
        "# df['silence_removed'] = None\n",
        "# df.drop(columns=['silence_removed', 'path'], inplace=True)\n",
        "\n",
        "\n",
        "#below codes for testing\n",
        "# df_temp = df.head(10).copy(deep=True)\n",
        "# df_temp = pd.concat([df_temp, ragged_row.to_frame().T], ignore_index=True)\n",
        "# df_temp['audio_normalized'] = audio_trimming(df_temp['silence_removed'].values, median_len)\n",
        "# df_temp\n",
        "\n",
        "# dont forget to remove the last row from the dataframe, it was only there to make the array ragged"
      ],
      "metadata": {
        "id": "8VYWRzwyYRWw",
        "colab": {
          "base_uri": "https://localhost:8080/"
        },
        "outputId": "e89de501-2ac3-4da0-c5a7-d95276844825"
      },
      "execution_count": null,
      "outputs": [
        {
          "output_type": "stream",
          "name": "stdout",
          "text": [
            "CPU times: user 31.9 ms, sys: 1.69 ms, total: 33.6 ms\n",
            "Wall time: 34.5 ms\n"
          ]
        }
      ]
    },
    {
      "cell_type": "code",
      "source": [
        "df"
      ],
      "metadata": {
        "colab": {
          "base_uri": "https://localhost:8080/",
          "height": 468
        },
        "id": "xmO7Fj7mOlr8",
        "outputId": "77a04f97-43b5-46eb-d56b-f1db545635bf"
      },
      "execution_count": null,
      "outputs": [
        {
          "output_type": "execute_result",
          "data": {
            "text/plain": [
              "               labels  source                                          path  \\\n",
              "0          male_anger   SAVEE           /content/SAVEE/AudioData/DC/a01.wav   \n",
              "1          male_anger   SAVEE           /content/SAVEE/AudioData/DC/a02.wav   \n",
              "2          male_anger   SAVEE           /content/SAVEE/AudioData/DC/a03.wav   \n",
              "3          male_anger   SAVEE           /content/SAVEE/AudioData/DC/a04.wav   \n",
              "4          male_anger   SAVEE           /content/SAVEE/AudioData/DC/a05.wav   \n",
              "...               ...     ...                                           ...   \n",
              "12160  female_neutral  CREMAD  /content/CREMAD/AudioWAV/1091_WSI_NEU_XX.wav   \n",
              "12161  female_sadness  CREMAD  /content/CREMAD/AudioWAV/1091_WSI_SAD_XX.wav   \n",
              "12162            None    None                                          None   \n",
              "12163            None    None                                          None   \n",
              "12164            None    None                                          None   \n",
              "\n",
              "                  name                                    silence_removed  \\\n",
              "0               DC_a01  [0.112091064, 0.11282349, 0.088012695, 0.05386...   \n",
              "1               DC_a02  [0.10910034, 0.11364746, 0.10357666, 0.0806579...   \n",
              "2               DC_a03  [0.12271118, 0.123931885, 0.1251831, 0.1264648...   \n",
              "3               DC_a04  [0.12472534, 0.13046265, 0.13531494, 0.1396484...   \n",
              "4               DC_a05  [0.121795654, 0.1227417, 0.11932373, 0.1135559...   \n",
              "...                ...                                                ...   \n",
              "12160  1091_WSI_NEU_XX  [0.008490561, 0.00867801, 0.008760293, 0.00883...   \n",
              "12161  1091_WSI_SAD_XX  [0.0006946694, 0.0007136891, 0.0006897674, 0.0...   \n",
              "12162             None                                                [1]   \n",
              "12163             None                                                [1]   \n",
              "12164             None                                                [1]   \n",
              "\n",
              "                                        audio_normalized  \n",
              "0      <generator object standardize_length at 0x7ff2...  \n",
              "1      <generator object standardize_length at 0x7ff2...  \n",
              "2      <generator object standardize_length at 0x7ff2...  \n",
              "3      <generator object standardize_length at 0x7ff2...  \n",
              "4      <generator object standardize_length at 0x7ff2...  \n",
              "...                                                  ...  \n",
              "12160  <generator object standardize_length at 0x7ff2...  \n",
              "12161  <generator object standardize_length at 0x7ff2...  \n",
              "12162  <generator object standardize_length at 0x7ff2...  \n",
              "12163                                               None  \n",
              "12164                                               None  \n",
              "\n",
              "[12165 rows x 6 columns]"
            ],
            "text/html": [
              "\n",
              "  <div id=\"df-7b06efbc-7f2a-459a-b2ce-aec738c5a5ae\">\n",
              "    <div class=\"colab-df-container\">\n",
              "      <div>\n",
              "<style scoped>\n",
              "    .dataframe tbody tr th:only-of-type {\n",
              "        vertical-align: middle;\n",
              "    }\n",
              "\n",
              "    .dataframe tbody tr th {\n",
              "        vertical-align: top;\n",
              "    }\n",
              "\n",
              "    .dataframe thead th {\n",
              "        text-align: right;\n",
              "    }\n",
              "</style>\n",
              "<table border=\"1\" class=\"dataframe\">\n",
              "  <thead>\n",
              "    <tr style=\"text-align: right;\">\n",
              "      <th></th>\n",
              "      <th>labels</th>\n",
              "      <th>source</th>\n",
              "      <th>path</th>\n",
              "      <th>name</th>\n",
              "      <th>silence_removed</th>\n",
              "      <th>audio_normalized</th>\n",
              "    </tr>\n",
              "  </thead>\n",
              "  <tbody>\n",
              "    <tr>\n",
              "      <th>0</th>\n",
              "      <td>male_anger</td>\n",
              "      <td>SAVEE</td>\n",
              "      <td>/content/SAVEE/AudioData/DC/a01.wav</td>\n",
              "      <td>DC_a01</td>\n",
              "      <td>[0.112091064, 0.11282349, 0.088012695, 0.05386...</td>\n",
              "      <td>&lt;generator object standardize_length at 0x7ff2...</td>\n",
              "    </tr>\n",
              "    <tr>\n",
              "      <th>1</th>\n",
              "      <td>male_anger</td>\n",
              "      <td>SAVEE</td>\n",
              "      <td>/content/SAVEE/AudioData/DC/a02.wav</td>\n",
              "      <td>DC_a02</td>\n",
              "      <td>[0.10910034, 0.11364746, 0.10357666, 0.0806579...</td>\n",
              "      <td>&lt;generator object standardize_length at 0x7ff2...</td>\n",
              "    </tr>\n",
              "    <tr>\n",
              "      <th>2</th>\n",
              "      <td>male_anger</td>\n",
              "      <td>SAVEE</td>\n",
              "      <td>/content/SAVEE/AudioData/DC/a03.wav</td>\n",
              "      <td>DC_a03</td>\n",
              "      <td>[0.12271118, 0.123931885, 0.1251831, 0.1264648...</td>\n",
              "      <td>&lt;generator object standardize_length at 0x7ff2...</td>\n",
              "    </tr>\n",
              "    <tr>\n",
              "      <th>3</th>\n",
              "      <td>male_anger</td>\n",
              "      <td>SAVEE</td>\n",
              "      <td>/content/SAVEE/AudioData/DC/a04.wav</td>\n",
              "      <td>DC_a04</td>\n",
              "      <td>[0.12472534, 0.13046265, 0.13531494, 0.1396484...</td>\n",
              "      <td>&lt;generator object standardize_length at 0x7ff2...</td>\n",
              "    </tr>\n",
              "    <tr>\n",
              "      <th>4</th>\n",
              "      <td>male_anger</td>\n",
              "      <td>SAVEE</td>\n",
              "      <td>/content/SAVEE/AudioData/DC/a05.wav</td>\n",
              "      <td>DC_a05</td>\n",
              "      <td>[0.121795654, 0.1227417, 0.11932373, 0.1135559...</td>\n",
              "      <td>&lt;generator object standardize_length at 0x7ff2...</td>\n",
              "    </tr>\n",
              "    <tr>\n",
              "      <th>...</th>\n",
              "      <td>...</td>\n",
              "      <td>...</td>\n",
              "      <td>...</td>\n",
              "      <td>...</td>\n",
              "      <td>...</td>\n",
              "      <td>...</td>\n",
              "    </tr>\n",
              "    <tr>\n",
              "      <th>12160</th>\n",
              "      <td>female_neutral</td>\n",
              "      <td>CREMAD</td>\n",
              "      <td>/content/CREMAD/AudioWAV/1091_WSI_NEU_XX.wav</td>\n",
              "      <td>1091_WSI_NEU_XX</td>\n",
              "      <td>[0.008490561, 0.00867801, 0.008760293, 0.00883...</td>\n",
              "      <td>&lt;generator object standardize_length at 0x7ff2...</td>\n",
              "    </tr>\n",
              "    <tr>\n",
              "      <th>12161</th>\n",
              "      <td>female_sadness</td>\n",
              "      <td>CREMAD</td>\n",
              "      <td>/content/CREMAD/AudioWAV/1091_WSI_SAD_XX.wav</td>\n",
              "      <td>1091_WSI_SAD_XX</td>\n",
              "      <td>[0.0006946694, 0.0007136891, 0.0006897674, 0.0...</td>\n",
              "      <td>&lt;generator object standardize_length at 0x7ff2...</td>\n",
              "    </tr>\n",
              "    <tr>\n",
              "      <th>12162</th>\n",
              "      <td>None</td>\n",
              "      <td>None</td>\n",
              "      <td>None</td>\n",
              "      <td>None</td>\n",
              "      <td>[1]</td>\n",
              "      <td>&lt;generator object standardize_length at 0x7ff2...</td>\n",
              "    </tr>\n",
              "    <tr>\n",
              "      <th>12163</th>\n",
              "      <td>None</td>\n",
              "      <td>None</td>\n",
              "      <td>None</td>\n",
              "      <td>None</td>\n",
              "      <td>[1]</td>\n",
              "      <td>None</td>\n",
              "    </tr>\n",
              "    <tr>\n",
              "      <th>12164</th>\n",
              "      <td>None</td>\n",
              "      <td>None</td>\n",
              "      <td>None</td>\n",
              "      <td>None</td>\n",
              "      <td>[1]</td>\n",
              "      <td>None</td>\n",
              "    </tr>\n",
              "  </tbody>\n",
              "</table>\n",
              "<p>12165 rows × 6 columns</p>\n",
              "</div>\n",
              "      <button class=\"colab-df-convert\" onclick=\"convertToInteractive('df-7b06efbc-7f2a-459a-b2ce-aec738c5a5ae')\"\n",
              "              title=\"Convert this dataframe to an interactive table.\"\n",
              "              style=\"display:none;\">\n",
              "        \n",
              "  <svg xmlns=\"http://www.w3.org/2000/svg\" height=\"24px\"viewBox=\"0 0 24 24\"\n",
              "       width=\"24px\">\n",
              "    <path d=\"M0 0h24v24H0V0z\" fill=\"none\"/>\n",
              "    <path d=\"M18.56 5.44l.94 2.06.94-2.06 2.06-.94-2.06-.94-.94-2.06-.94 2.06-2.06.94zm-11 1L8.5 8.5l.94-2.06 2.06-.94-2.06-.94L8.5 2.5l-.94 2.06-2.06.94zm10 10l.94 2.06.94-2.06 2.06-.94-2.06-.94-.94-2.06-.94 2.06-2.06.94z\"/><path d=\"M17.41 7.96l-1.37-1.37c-.4-.4-.92-.59-1.43-.59-.52 0-1.04.2-1.43.59L10.3 9.45l-7.72 7.72c-.78.78-.78 2.05 0 2.83L4 21.41c.39.39.9.59 1.41.59.51 0 1.02-.2 1.41-.59l7.78-7.78 2.81-2.81c.8-.78.8-2.07 0-2.86zM5.41 20L4 18.59l7.72-7.72 1.47 1.35L5.41 20z\"/>\n",
              "  </svg>\n",
              "      </button>\n",
              "      \n",
              "  <style>\n",
              "    .colab-df-container {\n",
              "      display:flex;\n",
              "      flex-wrap:wrap;\n",
              "      gap: 12px;\n",
              "    }\n",
              "\n",
              "    .colab-df-convert {\n",
              "      background-color: #E8F0FE;\n",
              "      border: none;\n",
              "      border-radius: 50%;\n",
              "      cursor: pointer;\n",
              "      display: none;\n",
              "      fill: #1967D2;\n",
              "      height: 32px;\n",
              "      padding: 0 0 0 0;\n",
              "      width: 32px;\n",
              "    }\n",
              "\n",
              "    .colab-df-convert:hover {\n",
              "      background-color: #E2EBFA;\n",
              "      box-shadow: 0px 1px 2px rgba(60, 64, 67, 0.3), 0px 1px 3px 1px rgba(60, 64, 67, 0.15);\n",
              "      fill: #174EA6;\n",
              "    }\n",
              "\n",
              "    [theme=dark] .colab-df-convert {\n",
              "      background-color: #3B4455;\n",
              "      fill: #D2E3FC;\n",
              "    }\n",
              "\n",
              "    [theme=dark] .colab-df-convert:hover {\n",
              "      background-color: #434B5C;\n",
              "      box-shadow: 0px 1px 3px 1px rgba(0, 0, 0, 0.15);\n",
              "      filter: drop-shadow(0px 1px 2px rgba(0, 0, 0, 0.3));\n",
              "      fill: #FFFFFF;\n",
              "    }\n",
              "  </style>\n",
              "\n",
              "      <script>\n",
              "        const buttonEl =\n",
              "          document.querySelector('#df-7b06efbc-7f2a-459a-b2ce-aec738c5a5ae button.colab-df-convert');\n",
              "        buttonEl.style.display =\n",
              "          google.colab.kernel.accessAllowed ? 'block' : 'none';\n",
              "\n",
              "        async function convertToInteractive(key) {\n",
              "          const element = document.querySelector('#df-7b06efbc-7f2a-459a-b2ce-aec738c5a5ae');\n",
              "          const dataTable =\n",
              "            await google.colab.kernel.invokeFunction('convertToInteractive',\n",
              "                                                     [key], {});\n",
              "          if (!dataTable) return;\n",
              "\n",
              "          const docLinkHtml = 'Like what you see? Visit the ' +\n",
              "            '<a target=\"_blank\" href=https://colab.research.google.com/notebooks/data_table.ipynb>data table notebook</a>'\n",
              "            + ' to learn more about interactive tables.';\n",
              "          element.innerHTML = '';\n",
              "          dataTable['output_type'] = 'display_data';\n",
              "          await google.colab.output.renderOutput(dataTable, element);\n",
              "          const docLink = document.createElement('div');\n",
              "          docLink.innerHTML = docLinkHtml;\n",
              "          element.appendChild(docLink);\n",
              "        }\n",
              "      </script>\n",
              "    </div>\n",
              "  </div>\n",
              "  "
            ]
          },
          "metadata": {},
          "execution_count": 62
        }
      ]
    },
    {
      "cell_type": "markdown",
      "source": [
        "# GENERATING SPECTROGRAMS AND STORING THEM"
      ],
      "metadata": {
        "id": "rkFk8xngorrv"
      }
    },
    {
      "cell_type": "code",
      "source": [
        "def short_time_fourier(audio_data):\n",
        "  try:\n",
        "    return lib.amplitude_to_db(\n",
        "        np.abs(\n",
        "            lib.stft(\n",
        "                next(\n",
        "                    next(\n",
        "                    call_bandpass(\n",
        "                        next(\n",
        "                              audio_data\n",
        "                             ), 44100\n",
        "                      )\n",
        "                    )\n",
        "                  )\n",
        "                )\n",
        "            ), ref=np.max)\n",
        "  except Exception as e:\n",
        "    print(e)\n",
        "    return None\n",
        "\n",
        "\n",
        "\n",
        "def call_bandpass(data, sampling_rate):\n",
        "  order_of_filter = 6\n",
        "  yield filter_signal(data, [128, 8192], sampling_rate, order= order_of_filter)\n",
        "  #yielding the filtered signal between 128 and 8192 Hz\n",
        "\n",
        "\n",
        "\n",
        "#butterworth bandpass filter\n",
        "def butter_bandpass_filter(lowcutoff, highcutoff, samplingRate, order = 2):\n",
        "  nyquistFreq = 0.5 * samplingRate\n",
        "  low_normal_cutoff = lowcutoff / nyquistFreq\n",
        "  high_normal_cutoff = highcutoff / nyquistFreq\n",
        "  b, a = butter(order, [low_normal_cutoff, high_normal_cutoff], btype = 'band')\n",
        "  return b, a\n",
        "\n",
        "\n",
        "#signal filtered\n",
        "def filter_signal(originalSignal, cutoff_freq, samplingRate, order = 2):\n",
        "  b,a = butter_bandpass_filter(cutoff_freq[0], cutoff_freq[1], samplingRate, order=order)\n",
        "  yield filtfilt(b, a, originalSignal)\n",
        "  # yield filtered_data"
      ],
      "metadata": {
        "id": "gdmc_G4qzhnl"
      },
      "execution_count": null,
      "outputs": []
    },
    {
      "cell_type": "code",
      "source": [
        "if os.path.exists('/content/spectrograms'):\n",
        "  shutil.rmtree(\"/content/spectrograms\")\n",
        "!mkdir spectrograms\n",
        "\n",
        "\n",
        "\n",
        "copied_df = df.head(3).copy(deep=True)\n",
        "ragged_row = pd.Series({'labels':None, 'source':None, 'path':None, 'name':None, 'silence_removed':np.array([1]), 'audio_normalized': None})\n",
        "df = pd.concat([df, ragged_row.to_frame().T], ignore_index=True)\n",
        "\n",
        "\n",
        "# df.apply(shortTimeFourier, axis=1)\n",
        "\n"
      ],
      "metadata": {
        "id": "XfF7DVMSlJ7z"
      },
      "execution_count": null,
      "outputs": []
    },
    {
      "cell_type": "code",
      "source": [
        "categories = set(df['labels'])\n",
        "\n",
        "for cat in categories:\n",
        "  if cat == None:\n",
        "    continue\n",
        "    \n",
        "  temp_df = pd.DataFrame(columns=['spectrogram_data'])\n",
        "  temp_df['spectrogram_data'] = df[df['labels'] == cat]['audio_normalized'].map(lambda x: short_time_fourier(x))\n",
        "  temp_df.to_pickle(f\"/content/spectrograms/{cat}.pkl\")   #making a pickle file of the dataframe for every emotion\n",
        "  del(temp_df)\n",
        "  gc.collect()  "
      ],
      "metadata": {
        "colab": {
          "base_uri": "https://localhost:8080/"
        },
        "id": "M7dk40yUR_pf",
        "outputId": "cf1528b6-66e1-4298-884e-bea6b34b740b"
      },
      "execution_count": null,
      "outputs": [
        {
          "output_type": "stream",
          "name": "stdout",
          "text": [
            "The length of the input vector x must be greater than padlen, which is 39.\n"
          ]
        }
      ]
    },
    {
      "cell_type": "code",
      "source": [
        "import os as os\n",
        "print(len(os.listdir('/content/spectrograms')))"
      ],
      "metadata": {
        "colab": {
          "base_uri": "https://localhost:8080/"
        },
        "id": "UWw2axLqbcEG",
        "outputId": "1662334d-05a5-4998-8b96-4a7829b905a9"
      },
      "execution_count": null,
      "outputs": [
        {
          "output_type": "stream",
          "name": "stdout",
          "text": [
            "16\n"
          ]
        }
      ]
    },
    {
      "cell_type": "markdown",
      "source": [
        "# ZIPPING THE IMAGES"
      ],
      "metadata": {
        "id": "QsEUQpxGw8ho"
      }
    },
    {
      "cell_type": "code",
      "source": [
        "!pwd\n",
        "!zip -r spectrograms.zip spectrograms/*.pkl"
      ],
      "metadata": {
        "colab": {
          "base_uri": "https://localhost:8080/"
        },
        "id": "rcEz8WtKw-nQ",
        "outputId": "fe9aa0c9-a2e8-4f38-ef95-4298a0c03679"
      },
      "execution_count": null,
      "outputs": [
        {
          "output_type": "stream",
          "name": "stdout",
          "text": [
            "/content\n",
            "  adding: spectrograms/female_anger.pkl (deflated 66%)\n",
            "  adding: spectrograms/female_calm.pkl (deflated 61%)\n",
            "  adding: spectrograms/female_disgust.pkl (deflated 67%)\n",
            "  adding: spectrograms/female_fear.pkl (deflated 65%)\n",
            "  adding: spectrograms/female_happy.pkl (deflated 66%)\n",
            "  adding: spectrograms/female_neutral.pkl (deflated 65%)\n",
            "  adding: spectrograms/female_sadness.pkl (deflated 66%)\n",
            "  adding: spectrograms/female_surprise.pkl (deflated 62%)\n",
            "  adding: spectrograms/male_anger.pkl (deflated 69%)\n",
            "  adding: spectrograms/male_calm.pkl (deflated 61%)\n",
            "  adding: spectrograms/male_disgust.pkl (deflated 69%)\n",
            "  adding: spectrograms/male_fear.pkl (deflated 68%)\n",
            "  adding: spectrograms/male_happy.pkl (deflated 69%)\n",
            "  adding: spectrograms/male_neutral.pkl (deflated 70%)\n",
            "  adding: spectrograms/male_sadness.pkl (deflated 68%)\n",
            "  adding: spectrograms/male_surprise.pkl (deflated 66%)\n"
          ]
        }
      ]
    },
    {
      "cell_type": "markdown",
      "source": [
        "# COPYING THE ZIPPED FILE TO THE DRIVE"
      ],
      "metadata": {
        "id": "D3cD2LiKyHX0"
      }
    },
    {
      "cell_type": "code",
      "source": [
        "!cp /content/spectrograms.zip /content/drive/MyDrive/Machine\\ Learning/Speech\\ Emotion\\ Recognition/pickled_spectrograms_14_11_2022.zip"
      ],
      "metadata": {
        "id": "5Cid1XvkyG0C"
      },
      "execution_count": null,
      "outputs": []
    },
    {
      "cell_type": "code",
      "source": [
        "!ls /content/drive/MyDrive/Machine\\ Learning/Speech\\ Emotion\\ Recognition"
      ],
      "metadata": {
        "colab": {
          "base_uri": "https://localhost:8080/"
        },
        "id": "TVyuoDoS5UZh",
        "outputId": "6c2c143c-17f7-4d29-9888-b6e3e635b9ab"
      },
      "execution_count": null,
      "outputs": [
        {
          "output_type": "stream",
          "name": "stdout",
          "text": [
            "'0-2799 Noise Eliminated Spectrograms.zip'\n",
            " audio_without_silence.pkl\n",
            " dataverse_files.zip\n",
            " kaggle.json\n",
            " modified_spectrograms_30_09_2022.zip\n",
            " path_list.csv\n",
            " pickled_spectrograms_14_11_2022.zip\n",
            "'spectrograms 1-2800 cropped and noise eliminated.zip'\n",
            " spectrograms_30_09_2022.zip\n",
            " spectrograms.zip\n",
            " TESS_Spectrograms.zip\n",
            " word_splitted_spectrograms.zip\n"
          ]
        }
      ]
    },
    {
      "cell_type": "code",
      "source": [
        "del(df)\n",
        "gc.collect()"
      ],
      "metadata": {
        "colab": {
          "base_uri": "https://localhost:8080/"
        },
        "id": "cPrFL6zi5_9n",
        "outputId": "eb998373-7e7e-49d6-c661-f966b1f04b93"
      },
      "execution_count": null,
      "outputs": [
        {
          "output_type": "execute_result",
          "data": {
            "text/plain": [
              "216"
            ]
          },
          "metadata": {},
          "execution_count": 70
        }
      ]
    },
    {
      "cell_type": "markdown",
      "source": [
        "### Just a little bit of testing"
      ],
      "metadata": {
        "id": "SWiFSym3HD3N"
      }
    },
    {
      "cell_type": "code",
      "source": [
        "calm = pd.read_pickle(\"/content/spectrograms/male_calm.pkl\")"
      ],
      "metadata": {
        "id": "4ptf6-t56BvA"
      },
      "execution_count": null,
      "outputs": []
    },
    {
      "cell_type": "code",
      "source": [
        "lid.specshow(calm.iloc[1]['spectrogram_data'], sr=44100, x_axis=\"time\", y_axis=\"log\")\n",
        "# lid.specshow(calm.iloc[3]['spectrogram_data'], sr=44100, x_axis='time', y_axis='log');\n",
        "\n",
        "# print(calm.iloc[1]['spectrogram_data'])\n",
        "# print((calm.iloc[1]['spectrogram_data']).shape)\n",
        "# print(type(calm.iloc[1]['spectrogram_data']))"
      ],
      "metadata": {
        "colab": {
          "base_uri": "https://localhost:8080/",
          "height": 296
        },
        "id": "QpDo5qRp6j7o",
        "outputId": "8368d84f-b0b9-4939-d0c8-adb45dead069"
      },
      "execution_count": null,
      "outputs": [
        {
          "output_type": "execute_result",
          "data": {
            "text/plain": [
              "<matplotlib.collections.QuadMesh at 0x7ff2e6164ed0>"
            ]
          },
          "metadata": {},
          "execution_count": 102
        },
        {
          "output_type": "display_data",
          "data": {
            "text/plain": [
              "<Figure size 432x288 with 1 Axes>"
            ],
            "image/png": "[encoded data removed]"
          },
          "metadata": {
            "needs_background": "light"
          }
        }
      ]
    }
  ]
}